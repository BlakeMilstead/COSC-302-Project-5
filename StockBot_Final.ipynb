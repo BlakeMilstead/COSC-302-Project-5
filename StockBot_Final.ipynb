{
  "nbformat": 4,
  "nbformat_minor": 0,
  "metadata": {
    "colab": {
      "provenance": [],
      "include_colab_link": true
    },
    "kernelspec": {
      "name": "python3",
      "display_name": "Python 3"
    },
    "language_info": {
      "name": "python"
    }
  },
  "cells": [
    {
      "cell_type": "markdown",
      "metadata": {
        "id": "view-in-github",
        "colab_type": "text"
      },
      "source": [
        "<a href=\"https://colab.research.google.com/github/BlakeMilstead/COSC-302-Project-5/blob/main/StockBot_Final.ipynb\" target=\"_parent\"><img src=\"https://colab.research.google.com/assets/colab-badge.svg\" alt=\"Open In Colab\"/></a>"
      ]
    },
    {
      "cell_type": "code",
      "source": [
        "!pip install xgboost --quiet\n",
        "!pip install --upgrade tensorflow --quiet\n",
        "!pip install --upgrade keras --quiet\n",
        "!pip install polygon-api-client --quiet\n",
        "!pip install aiohttp --quiet\n",
        "!pip install nest_asyncio --quiet\n",
        "!pip install diskcache --quiet"
      ],
      "metadata": {
        "id": "ZUT7GcM1y8xv"
      },
      "execution_count": 1,
      "outputs": []
    },
    {
      "cell_type": "code",
      "source": [
        "import numpy as np\n",
        "import pandas as pd\n",
        "import matplotlib.pyplot as plt\n",
        "import time\n",
        "from polygon import RESTClient\n",
        "import requests\n",
        "import datetime\n",
        "import xgboost as xgb\n",
        "from sklearn.model_selection import train_test_split, KFold\n",
        "from sklearn.metrics import mean_squared_error\n",
        "from nltk.sentiment.vader import SentimentIntensityAnalyzer\n",
        "from nltk import download\n",
        "from requests.exceptions import HTTPError\n",
        "import aiohttp\n",
        "import asyncio\n",
        "import nest_asyncio\n",
        "from itertools import product\n",
        "from diskcache import Cache\n",
        "import os"
      ],
      "metadata": {
        "id": "W0XrNIrkzTzO"
      },
      "execution_count": 30,
      "outputs": []
    },
    {
      "cell_type": "code",
      "source": [
        "api_key = 'WlyapBrEd4Rq_3c7UKjic7C13QSirasy'"
      ],
      "metadata": {
        "id": "Of2depMu0sUj"
      },
      "execution_count": 3,
      "outputs": []
    },
    {
      "cell_type": "code",
      "source": [
        "from google.colab import drive\n",
        "drive.mount('/content/drive')\n",
        "\n",
        "# Now, use a folder in Google Drive as your cache location\n",
        "cache_path = '/content/drive/MyDrive/StockBot/cache_directory'  # Path in Google Drive"
      ],
      "metadata": {
        "id": "ZJ2QHqFmGVY6",
        "outputId": "f793408e-4990-4f48-b296-36addb087f6b",
        "colab": {
          "base_uri": "https://localhost:8080/"
        }
      },
      "execution_count": 21,
      "outputs": [
        {
          "output_type": "stream",
          "name": "stdout",
          "text": [
            "Drive already mounted at /content/drive; to attempt to forcibly remount, call drive.mount(\"/content/drive\", force_remount=True).\n"
          ]
        }
      ]
    },
    {
      "cell_type": "code",
      "source": [
        "download('vader_lexicon')\n",
        "nest_asyncio.apply()"
      ],
      "metadata": {
        "colab": {
          "base_uri": "https://localhost:8080/"
        },
        "id": "SUiflbvuz4u_",
        "outputId": "b374e78c-f687-448e-c7eb-4c920bea74cb"
      },
      "execution_count": 4,
      "outputs": [
        {
          "output_type": "stream",
          "name": "stderr",
          "text": [
            "[nltk_data] Downloading package vader_lexicon to /root/nltk_data...\n",
            "[nltk_data]   Package vader_lexicon is already up-to-date!\n"
          ]
        }
      ]
    },
    {
      "cell_type": "code",
      "source": [
        "class DataCollector:\n",
        "    def __init__(self, api_key):\n",
        "        self.api_key = api_key\n",
        "        self.cache = Cache(cache_path) # Initialize cache\n",
        "\n",
        "    def clear_cache(self):\n",
        "        \"\"\"\n",
        "        Clears the cache and deletes cache files from the directory.\n",
        "        \"\"\"\n",
        "        try:\n",
        "            # Print cache status before clearing\n",
        "            print(f\"Cache before clearing. Number of items: {len(self.cache)}\")\n",
        "            cache_directory = self.cache.directory  # Get the cache directory\n",
        "\n",
        "            # Clear the in-memory cache\n",
        "            self.cache.clear()\n",
        "\n",
        "            # Manually delete the cache files on disk\n",
        "            if os.path.exists(cache_directory):\n",
        "                for filename in os.listdir(cache_directory):\n",
        "                    file_path = os.path.join(cache_directory, filename)\n",
        "                    if os.path.isfile(file_path):\n",
        "                        os.remove(file_path)  # Remove the file\n",
        "                print(f\"Cache files deleted from {cache_directory}.\")\n",
        "            else:\n",
        "                print(f\"Cache directory {cache_directory} not found.\")\n",
        "\n",
        "            # Print cache status after clearing\n",
        "            print(f\"Cache cleared. Number of items: {len(self.cache)}\")\n",
        "        except Exception as e:\n",
        "            print(f\"Error clearing cache: {e}\")\n",
        "\n",
        "    def check_cache_status(self):\n",
        "        \"\"\"\n",
        "        Prints out the number of items in the cache and the current cache size.\n",
        "        \"\"\"\n",
        "        try:\n",
        "            print(f\"Cache contains {len(self.cache)} items.\")\n",
        "            cache_size = sum([item[1] for item in self.cache.items()])\n",
        "            print(f\"Cache size: {cache_size / (1024 ** 2):.2f} MB\")  # Display cache size in MB\n",
        "        except Exception as e:\n",
        "            print(f\"Error checking cache: {e}\")\n",
        "\n",
        "    def create_stock_sentiment_df(self, ticker, days_back=365, decay_factor=0.95):\n",
        "      client = RESTClient(api_key=self.api_key)\n",
        "      today = datetime.date.today()\n",
        "      from_date = today - datetime.timedelta(days=days_back)\n",
        "      to_date = today\n",
        "\n",
        "      aggs = self.make_api_call(client, ticker, from_date, to_date)\n",
        "      if aggs is None:\n",
        "          return pd.DataFrame()\n",
        "\n",
        "      stock_df = pd.DataFrame(aggs).rename(columns={'timestamp': 'time'})\n",
        "      stock_df['Datetime'] = pd.to_datetime(stock_df['time'], unit='ms', utc=True).dt.tz_convert('America/New_York')\n",
        "\n",
        "      sia = SentimentIntensityAnalyzer()\n",
        "      date_list = [row['Datetime'].strftime('%Y-%m-%d') for _, row in stock_df.iterrows()]\n",
        "\n",
        "      loop = asyncio.get_event_loop()\n",
        "      sentiments = loop.run_until_complete(self.fetch_all_news(ticker, self.api_key, date_list, sia))\n",
        "\n",
        "\n",
        "      for idx, val in enumerate(sentiments):\n",
        "          if isinstance(val, (list, tuple)) and len(val) == 2 and val[0] is not None:\n",
        "              # Store the average sentiment\n",
        "              stock_df.loc[idx, 'sentiment'] = val[0]\n",
        "              # Store the number of articles in a new column\n",
        "              stock_df.loc[idx, 'num_articles'] = val[1]\n",
        "          else:\n",
        "              stock_df.loc[idx, 'sentiment'] = 0  # Default for missing sentiments\n",
        "              stock_df.loc[idx, 'num_articles'] = 0 # Default for missing articles\n",
        "\n",
        "      return stock_df\n",
        "\n",
        "    async def fetch_all_news(self, ticker, api_key, date_list, sia):\n",
        "      base_url = \"https://api.polygon.io/v2/reference/news\"\n",
        "      params = {\n",
        "          'ticker': ticker,\n",
        "          'published_utc.gte': f\"{date_list[0]}T00:00:00Z\",\n",
        "          'published_utc.lte': f\"{date_list[-1]}T23:59:59Z\",\n",
        "          'limit': 1000,\n",
        "          'apiKey': api_key\n",
        "      }\n",
        "\n",
        "      cache_key = f\"{ticker}_{date_list[0]}_{date_list[-1]}\"\n",
        "      if cache_key in self.cache:\n",
        "          return self.cache[cache_key]\n",
        "\n",
        "      timeout = aiohttp.ClientTimeout(total=60)  # Set a timeout of 60 seconds\n",
        "      max_retries = 50  # Number of retries for failures\n",
        "\n",
        "      for attempt in range(max_retries):\n",
        "          try:\n",
        "              async with aiohttp.ClientSession(timeout=timeout) as session:\n",
        "                  async with session.get(base_url, params=params) as response:\n",
        "                      if response.status == 429:\n",
        "                          print(f\"Rate limit hit for {ticker}. Retrying in 60 seconds...\")\n",
        "                          await asyncio.sleep(60)\n",
        "                          continue  # Retry after sleep\n",
        "                      elif response.status != 200:\n",
        "                          error_details = await response.text()\n",
        "                          print(f\"Failed to fetch news for {ticker}. HTTP Status: {response.status}, Details: {error_details}\")\n",
        "                          return [0] * len(date_list)\n",
        "\n",
        "                      data = await response.json()\n",
        "                      articles = data.get('results', [])\n",
        "\n",
        "                      # Process articles and calculate sentiment\n",
        "                      results = {}\n",
        "                      for article in articles:\n",
        "                          published_date = article['published_utc'][:10]\n",
        "                          if published_date not in results:\n",
        "                              results[published_date] = []\n",
        "                          results[published_date].append(article)\n",
        "\n",
        "                      final_results = []\n",
        "                      for date_string in date_list:\n",
        "                          date_articles = results.get(date_string, [])\n",
        "                          if not date_articles:\n",
        "                              final_results.append([None, None])\n",
        "                          else:\n",
        "                              articles_df = pd.DataFrame(date_articles)\n",
        "                              articles_sentiment = self.analyze_sentiment(articles_df, 'title', sia)\n",
        "                              avg_sent = self.average_sentiment_score(articles_sentiment)\n",
        "                              final_results.append([avg_sent, len(date_articles)])\n",
        "\n",
        "                      self.cache[cache_key] = final_results\n",
        "                      return final_results\n",
        "          except asyncio.TimeoutError:\n",
        "              print(f\"Timeout occurred on attempt {attempt + 1} for {ticker}. Retrying...\")\n",
        "              await asyncio.sleep(10)  # Delay before retrying\n",
        "          except aiohttp.ClientError as e:\n",
        "              print(f\"Client error: {e}. Retrying...\")\n",
        "              await asyncio.sleep(10)\n",
        "\n",
        "      print(f\"Failed to fetch news for {ticker} after {max_retries} attempts.\")\n",
        "      return [0] * len(date_list)  # Return default values if all retries fail\n",
        "\n",
        "\n",
        "\n",
        "    def analyze_sentiment(self, data, column, sia):\n",
        "\n",
        "        # Applying sentiment analysis to the specified column and extracting compound score\n",
        "        data['sentiment'] = data[column].apply(lambda x: sia.polarity_scores(x)['compound'])\n",
        "\n",
        "        # Classify sentiment as Positive, Negative, or Neutral\n",
        "        data['sentiment_label'] = data['sentiment'].apply(lambda x: 'Positive' if x > 0.05 else ('Negative' if x < -0.05 else 'Neutral'))\n",
        "\n",
        "        return data\n",
        "\n",
        "    # Function to calculate the average sentiment score\n",
        "    def average_sentiment_score(self, data):\n",
        "        average_sentiment = data['sentiment'].mean()  # Calculate the mean (average) of all compound sentiment scores\n",
        "        return average_sentiment\n",
        "\n",
        "    def make_api_call(self, client, ticker, from_date, to_date):\n",
        "        # Function to make the API call with retries\n",
        "        attempts = 0\n",
        "        while attempts < 3:  # Retry up to 3 times\n",
        "            try:\n",
        "                aggs = client.list_aggs(\n",
        "                    ticker=ticker,\n",
        "                    multiplier=1,\n",
        "                    timespan=\"day\",\n",
        "                    from_=from_date,\n",
        "                    to=to_date,\n",
        "                    limit=50000  # Adjust limit as needed\n",
        "                )\n",
        "                return aggs  # Return the data if successful\n",
        "            except HTTPError as e:\n",
        "                if e.response.status_code == 429:  # Rate limit error\n",
        "                    print(f\"Rate limit hit for {ticker}. Retrying in 60 seconds...\")\n",
        "                    time.sleep(60)  # Wait for 60 seconds\n",
        "                    attempts += 1\n",
        "                else:\n",
        "                    raise  # Raise other errors for handling outside\n",
        "        print(f\"Failed to fetch data for {ticker} after multiple retries.\")\n",
        "        return None  # Return None if all retries fail"
      ],
      "metadata": {
        "id": "2Sqdp3Wqx-rd"
      },
      "execution_count": 28,
      "outputs": []
    },
    {
      "cell_type": "code",
      "execution_count": 6,
      "metadata": {
        "id": "1-FtSrNFyVkB"
      },
      "outputs": [],
      "source": [
        "class stock_bot():\n",
        "\n",
        "    def __init__(self, ticker, random_state, data, features=None):\n",
        "        if features is None:\n",
        "          features = ['open', 'high', 'low', 'close', 'volume', 'sentiment']\n",
        "        self.features = features\n",
        "        self.ticker = ticker\n",
        "        self.random_state = random_state\n",
        "        self.models = {}\n",
        "\n",
        "        self.data = data\n",
        "\n",
        "    def get_features(self, target):\n",
        "        return [f for f in self.features if f != target]\n",
        "\n",
        "    def train_models(self, data, params):\n",
        "        for target in self.features:\n",
        "            X = data[self.get_features(target)]\n",
        "            y = data[target]\n",
        "            self.train(X, y, target, params)\n",
        "\n",
        "        return self.models\n",
        "\n",
        "    def train(self, X, y, target, params=None):\n",
        "\n",
        "        if params is None:\n",
        "            params = {\n",
        "                'objective': 'reg:squarederror',\n",
        "                'n_estimators': 100,\n",
        "                'learning_rate': 0.1,\n",
        "                'max_depth': 3\n",
        "            }\n",
        "\n",
        "        model = xgb.XGBRegressor(**params)\n",
        "        model.fit(X, y)\n",
        "\n",
        "        self.models[target] = model\n",
        "\n",
        "        return model\n",
        "\n",
        "    def plot(self, model):\n",
        "        plt.figure(figsize=(12, 6))\n",
        "        plt.plot(self.data['Datetime'], self.data['close'], label='Actual Stock Price', color='blue')\n",
        "\n",
        "        plt.plot(self.data['Datetime'], model.predict(self.data[self.features]), label='Predicted Stock Price', color='red')\n",
        "        plt.title(f'Stock Price Prediction for {self.ticker}')\n",
        "        plt.xlabel('Date')\n",
        "        plt.ylabel('Stock Price')\n",
        "        plt.legend()\n",
        "\n",
        "    def predict_day(self, yesterday):\n",
        "        today = {}\n",
        "        y_data_open = yesterday[self.get_features('open')]\n",
        "\n",
        "        # Reshape the features into a 2D array for prediction\n",
        "        t_open_pred = y_data_open.values.reshape(1, -1)\n",
        "\n",
        "        # Predict the 'open' price using the appropriate model\n",
        "        today_open = self.models['open'].predict(t_open_pred)[0]\n",
        "\n",
        "        today['open'] = today_open\n",
        "\n",
        "        for target in self.features:\n",
        "          if target != 'open' and target != 'close':\n",
        "            model = self.models[target]\n",
        "            target_features = self.get_features(target)\n",
        "            last_day_target = yesterday[target_features].copy()\n",
        "            last_day_target['open'] = today['open']\n",
        "\n",
        "            last_day_target_pred = last_day_target.values.reshape(1, -1)\n",
        "            # Predict the target price using the appropriate model\n",
        "            today_target = model.predict(last_day_target_pred)[0]\n",
        "\n",
        "            today[target] = today_target\n",
        "\n",
        "        close_model = self.models['close']\n",
        "        today_close = close_model.predict(pd.DataFrame([today]))[0]\n",
        "        today['close'] = today_close\n",
        "\n",
        "        idx = range(len(self.features) - 1)\n",
        "\n",
        "        today = pd.DataFrame([today], columns=self.features)\n",
        "\n",
        "        return today\n",
        "\n",
        "    def predict_past(self, days):\n",
        "        days = days + 1\n",
        "        real_days = self.data.tail(days).reset_index(drop=True)\n",
        "        last_day = real_days.iloc[0]\n",
        "\n",
        "        data = {}\n",
        "        closes = []\n",
        "\n",
        "        for i in range(days):\n",
        "          today = self.predict_day(last_day)\n",
        "          data[i] = today\n",
        "          closes.append(data[i]['close'])\n",
        "          last_day = today\n",
        "\n",
        "        return data, closes\n",
        "\n",
        "    def plot_past(self, lookback, closes):\n",
        "        days = len(closes)\n",
        "        real_days = self.data.tail(lookback + days)['close'].reset_index(drop=True)\n",
        "\n",
        "        dates = np.linspace(1, lookback+days-1, lookback+days-1, dtype=int)\n",
        "        days_past = dates[:lookback]\n",
        "        days_future = dates[lookback-1:]\n",
        "\n",
        "        closes[0] = real_days[days_future].head(1)\n",
        "\n",
        "        plt.figure(figsize=(12, 6))\n",
        "        plt.plot(days_past, real_days[days_past], label='Real Past Prices', color='blue')\n",
        "        plt.plot(days_future, real_days[days_future], label='Real Future Prices', color='green')\n",
        "        plt.plot(days_future, closes, label='Predicted Closing Prices', color='red')\n",
        "        plt.title(f'{len(closes)-1} Day Closing Price Prediction for {self.ticker}')\n",
        "        plt.xlabel('Days')\n",
        "        plt.ylabel('Closing Price')\n",
        "        plt.legend()\n",
        "\n",
        "        plt.show()\n",
        "\n",
        "    def predict_x(self, x):\n",
        "        real_days = self.data.tail(1).reset_index(drop=True)\n",
        "        last_day = real_days.iloc[0]\n",
        "\n",
        "        data = {}\n",
        "        closes = []\n",
        "\n",
        "        for i in range(x):\n",
        "          today = self.predict_day(last_day)\n",
        "          data[i] = today\n",
        "          closes.append(data[i]['close'])\n",
        "          last_day = today\n",
        "\n",
        "        return data, closes\n",
        "\n",
        "    def plot_x(self, days_b4, closes):\n",
        "        # Extract real closing prices for the specified number of days before prediction\n",
        "        real_days = self.data.tail(days_b4)['close'].reset_index(drop=True)\n",
        "\n",
        "        # Concatenate the last real price with the predicted prices for seamless connection\n",
        "        closes = np.insert(closes, 0, real_days.iloc[-1])  # Add the last real closing price to the predictions\n",
        "\n",
        "        # Create x-axis for real and predicted values\n",
        "        dates = np.linspace(1, len(closes) + days_b4 - 1, len(closes) + days_b4 - 1)\n",
        "\n",
        "        # Plot both segments\n",
        "        plt.figure(figsize=(12, 6))\n",
        "        plt.plot(dates[:days_b4], real_days, label='Real Closing Prices', color='blue')  # Real prices\n",
        "        plt.plot(dates[days_b4-1:], closes, label='Predicted Closing Prices', color='red')  # Predicted prices\n",
        "\n",
        "        # Plot settings\n",
        "        plt.title(f'{len(closes) - 1} Day Closing Price Prediction for {self.ticker}')\n",
        "        plt.xlabel('Days')\n",
        "        plt.ylabel('Closing Price')\n",
        "        plt.legend()\n",
        "\n",
        "        plt.show()"
      ]
    },
    {
      "cell_type": "code",
      "source": [
        "class stock_bot_tester():\n",
        "    def __init__(self, ticker, data_collector, days_back, random_state, features=None):\n",
        "        if features is None:\n",
        "          features = ['open', 'high', 'low', 'close', 'volume', 'sentiment']\n",
        "        self.param_grid = {\n",
        "            'objective': ['reg:squarederror'],\n",
        "            'learning_rate': [0.01, 0.1, 0.2],\n",
        "            'max_depth': [3, 5, 7],\n",
        "            'n_estimators': [50, 100, 150],\n",
        "        }\n",
        "        self.ticker = ticker\n",
        "        self.data_collector = data_collector\n",
        "        self.api_key = api_key\n",
        "        self.days_back = days_back\n",
        "        self.random_state = random_state\n",
        "        self.features = features\n",
        "\n",
        "        self.data = self.data_collector.create_stock_sentiment_df(self.ticker, self.days_back)[self.features]\n",
        "\n",
        "    def get_features(self, target):\n",
        "        return [f for f in self.features if f != target]\n",
        "\n",
        "    def train_and_evaluate(self, data, params, n_splits=3):\n",
        "        kval = KFold(n_splits=n_splits)\n",
        "        validation_scores = []\n",
        "\n",
        "        for train_idx, val_idx in kval.split(data):\n",
        "            data_train = data.iloc[train_idx]\n",
        "            data_val = data.iloc[val_idx]\n",
        "\n",
        "            bot = stock_bot(self.ticker, self.random_state, self.data)\n",
        "            model = bot.train_models(data_train, params)\n",
        "\n",
        "            y_pred = model['close'].predict(data_val[self.get_features('close')])\n",
        "            score = np.sqrt(mean_squared_error(data_val['close'], y_pred))\n",
        "            validation_scores.append(score)\n",
        "\n",
        "        return np.mean(validation_scores)\n",
        "\n",
        "    def hyperparameter_search(self):\n",
        "        best_score = float('inf')\n",
        "        best_params = None\n",
        "        results = []\n",
        "\n",
        "        # Generate all combinations of hyperparameters\n",
        "        param_combinations = list(product(*self.param_grid.values()))\n",
        "\n",
        "        for combination in param_combinations:\n",
        "            params = dict(zip(self.param_grid.keys(), combination))\n",
        "            print(f\"Testing parameters: {params}\")\n",
        "\n",
        "            score = self.train_and_evaluate(self.data, params)\n",
        "            results.append((params, score))\n",
        "\n",
        "            if score < best_score:\n",
        "                best_score = score\n",
        "                best_params = params\n",
        "\n",
        "        return best_params, best_score, results"
      ],
      "metadata": {
        "id": "-YkdTW0TZa2B"
      },
      "execution_count": 7,
      "outputs": []
    },
    {
      "cell_type": "code",
      "source": [
        "data_collector = DataCollector(api_key)\n",
        "data_collector.clear_cache()\n",
        "bot_tester = stock_bot_tester('TSLA', data_collector, 365, 42)\n",
        "\n",
        "best_params, best_score, results = bot_tester.hyperparameter_search()"
      ],
      "metadata": {
        "colab": {
          "base_uri": "https://localhost:8080/"
        },
        "id": "s1o40e45Ivlp",
        "outputId": "e8502c8e-78af-4783-f3f0-6ff5e503c227",
        "collapsed": true
      },
      "execution_count": 31,
      "outputs": [
        {
          "output_type": "stream",
          "name": "stdout",
          "text": [
            "Cache before clearing. Number of items: 1\n",
            "Cache files deleted from /content/drive/MyDrive/StockBot/cache_directory.\n",
            "Cache cleared. Number of items: 0\n",
            "Testing parameters: {'objective': 'reg:squarederror', 'learning_rate': 0.01, 'max_depth': 3, 'n_estimators': 50}\n",
            "Testing parameters: {'objective': 'reg:squarederror', 'learning_rate': 0.01, 'max_depth': 3, 'n_estimators': 100}\n",
            "Testing parameters: {'objective': 'reg:squarederror', 'learning_rate': 0.01, 'max_depth': 3, 'n_estimators': 150}\n",
            "Testing parameters: {'objective': 'reg:squarederror', 'learning_rate': 0.01, 'max_depth': 5, 'n_estimators': 50}\n",
            "Testing parameters: {'objective': 'reg:squarederror', 'learning_rate': 0.01, 'max_depth': 5, 'n_estimators': 100}\n",
            "Testing parameters: {'objective': 'reg:squarederror', 'learning_rate': 0.01, 'max_depth': 5, 'n_estimators': 150}\n",
            "Testing parameters: {'objective': 'reg:squarederror', 'learning_rate': 0.01, 'max_depth': 7, 'n_estimators': 50}\n",
            "Testing parameters: {'objective': 'reg:squarederror', 'learning_rate': 0.01, 'max_depth': 7, 'n_estimators': 100}\n",
            "Testing parameters: {'objective': 'reg:squarederror', 'learning_rate': 0.01, 'max_depth': 7, 'n_estimators': 150}\n",
            "Testing parameters: {'objective': 'reg:squarederror', 'learning_rate': 0.1, 'max_depth': 3, 'n_estimators': 50}\n",
            "Testing parameters: {'objective': 'reg:squarederror', 'learning_rate': 0.1, 'max_depth': 3, 'n_estimators': 100}\n",
            "Testing parameters: {'objective': 'reg:squarederror', 'learning_rate': 0.1, 'max_depth': 3, 'n_estimators': 150}\n",
            "Testing parameters: {'objective': 'reg:squarederror', 'learning_rate': 0.1, 'max_depth': 5, 'n_estimators': 50}\n",
            "Testing parameters: {'objective': 'reg:squarederror', 'learning_rate': 0.1, 'max_depth': 5, 'n_estimators': 100}\n",
            "Testing parameters: {'objective': 'reg:squarederror', 'learning_rate': 0.1, 'max_depth': 5, 'n_estimators': 150}\n",
            "Testing parameters: {'objective': 'reg:squarederror', 'learning_rate': 0.1, 'max_depth': 7, 'n_estimators': 50}\n",
            "Testing parameters: {'objective': 'reg:squarederror', 'learning_rate': 0.1, 'max_depth': 7, 'n_estimators': 100}\n",
            "Testing parameters: {'objective': 'reg:squarederror', 'learning_rate': 0.1, 'max_depth': 7, 'n_estimators': 150}\n",
            "Testing parameters: {'objective': 'reg:squarederror', 'learning_rate': 0.2, 'max_depth': 3, 'n_estimators': 50}\n",
            "Testing parameters: {'objective': 'reg:squarederror', 'learning_rate': 0.2, 'max_depth': 3, 'n_estimators': 100}\n",
            "Testing parameters: {'objective': 'reg:squarederror', 'learning_rate': 0.2, 'max_depth': 3, 'n_estimators': 150}\n",
            "Testing parameters: {'objective': 'reg:squarederror', 'learning_rate': 0.2, 'max_depth': 5, 'n_estimators': 50}\n",
            "Testing parameters: {'objective': 'reg:squarederror', 'learning_rate': 0.2, 'max_depth': 5, 'n_estimators': 100}\n",
            "Testing parameters: {'objective': 'reg:squarederror', 'learning_rate': 0.2, 'max_depth': 5, 'n_estimators': 150}\n",
            "Testing parameters: {'objective': 'reg:squarederror', 'learning_rate': 0.2, 'max_depth': 7, 'n_estimators': 50}\n",
            "Testing parameters: {'objective': 'reg:squarederror', 'learning_rate': 0.2, 'max_depth': 7, 'n_estimators': 100}\n",
            "Testing parameters: {'objective': 'reg:squarederror', 'learning_rate': 0.2, 'max_depth': 7, 'n_estimators': 150}\n"
          ]
        }
      ]
    },
    {
      "cell_type": "code",
      "source": [
        "print(bot_tester.data.tail())"
      ],
      "metadata": {
        "id": "am3joE4_HwtQ",
        "outputId": "690a2e41-8447-45f4-a5b4-572c49f5262c",
        "colab": {
          "base_uri": "https://localhost:8080/"
        }
      },
      "execution_count": 34,
      "outputs": [
        {
          "output_type": "stream",
          "name": "stdout",
          "text": [
            "        open      high     low   close       volume  sentiment\n",
            "246  340.730  348.5499  330.01  338.74  123345498.0   0.046675\n",
            "247  335.760  347.3799  332.75  346.00   88501177.0   0.765000\n",
            "248  345.000  346.5999  334.30  342.03   64842707.0  -0.016700\n",
            "249  343.810  347.9899  335.28  339.64   57790226.0   0.000000\n",
            "250  341.085  361.5300  337.70  352.56   88350753.0   0.418333\n"
          ]
        }
      ]
    },
    {
      "cell_type": "code",
      "source": [
        "stock_bot_best = stock_bot('TSLA', 42, bot_tester.data)\n",
        "\n",
        "stock_bot_best.train_models(bot_tester.data, best_params)\n",
        "\n",
        "week, week_close = stock_bot_best.predict_past(7)\n",
        "\n",
        "print(f'Model achieved {best_score:.2f} validation MSE')\n",
        "\n",
        "stock_bot_best.plot_past(7, week_close)"
      ],
      "metadata": {
        "colab": {
          "base_uri": "https://localhost:8080/",
          "height": 385
        },
        "id": "nfSfObKhI3E9",
        "outputId": "3df078e8-b37f-4074-e3d4-3130017e0882"
      },
      "execution_count": 10,
      "outputs": [
        {
          "output_type": "stream",
          "name": "stdout",
          "text": [
            "Model achieved 12.46 validation MSE\n"
          ]
        },
        {
          "output_type": "display_data",
          "data": {
            "text/plain": [
              "<Figure size 1200x600 with 1 Axes>"
            ],
            "image/png": "[encoded data removed]"
          },
          "metadata": {}
        }
      ]
    },
    {
      "cell_type": "code",
      "source": [
        "week, week_close = stock_bot_best.predict_x(7)\n",
        "\n",
        "stock_bot_best.plot_x(7, week_close)"
      ],
      "metadata": {
        "id": "1PR28lG7M7X9",
        "outputId": "7b8e073e-62ec-4807-d62b-04aa8610e119",
        "colab": {
          "base_uri": "https://localhost:8080/",
          "height": 367
        }
      },
      "execution_count": 11,
      "outputs": [
        {
          "output_type": "display_data",
          "data": {
            "text/plain": [
              "<Figure size 1200x600 with 1 Axes>"
            ],
            "image/png": "[encoded data removed]"
          },
          "metadata": {}
        }
      ]
    }
  ]
}